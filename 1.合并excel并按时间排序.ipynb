{
 "cells": [
  {
   "cell_type": "code",
   "execution_count": 1,
   "metadata": {},
   "outputs": [],
   "source": [
    "import pandas as pd\n",
    "import os"
   ]
  },
  {
   "cell_type": "code",
   "execution_count": 4,
   "metadata": {},
   "outputs": [],
   "source": [
    "def Concat_excle(dir):  #https://blog.csdn.net/fffflyinthesky/article/details/107695833\n",
    "    frames = []\n",
    "    for root, dirs, files in os.walk(dir):\n",
    "        # print(files)\n",
    "        for file in files:\n",
    "            if os.path.splitext(file)[1] == '.xlsx':\n",
    "                # print(file)\n",
    "                # print(os.path.join(root,file))\n",
    "                df = pd.read_excel(os.path.join(root,file), None)\n",
    "                keys = list(df.keys())\n",
    "                # print(keys)\n",
    "                for i in keys:\n",
    "                    df_sheet = df[i]\n",
    "                    frames.append(df_sheet) #将所有df更新进frame表中     \n",
    "    result = pd.concat(frames) \n",
    "    result.drop_duplicates(subset=None, keep='first', inplace=True)#删除重复的值，这里subset='昵称'表示每个用户只取评论的一条，要删除重复的评论改为None即可\n",
    "    result.sort_values(\"时间\",inplace=True)# 按时间进行排序\n",
    "# print(pd.concat(frames))\n",
    "#将合并后的dataframe存为Excel文件，保存时去除索引\n",
    "    result.to_excel((os.path.abspath(os.path.join(dir,\"..\",'./被处理的excel'))) + '/所有迪士尼评论.xls',index = False)\n",
    "    # os.path.abspath是绝对路径，os.path.join(dir,\"..\")是dir的上一级路径\n",
    "    # https://blog.csdn.net/longshenlmj/article/details/13294871"
   ]
  },
  {
   "cell_type": "code",
   "execution_count": 5,
   "metadata": {},
   "outputs": [
    {
     "name": "stderr",
     "output_type": "stream",
     "text": [
      "/var/folders/9b/8kts6r8n17s_2fp91h4s6yj00000gn/T/ipykernel_37987/2835112878.py:20: FutureWarning: As the xlwt package is no longer maintained, the xlwt engine will be removed in a future version of pandas. This is the only engine in pandas that supports writing in the xls format. Install openpyxl and write to an xlsx file instead. You can set the option io.excel.xls.writer to 'xlwt' to silence this warning. While this option is deprecated and will also raise a warning, it can be globally set and the warning suppressed.\n",
      "  result.to_excel((os.path.abspath(os.path.join(dir,\"..\",'./被处理的excel'))) + '/所有迪士尼评论.xls',index = False)\n"
     ]
    }
   ],
   "source": [
    "dir='/Users/nxcy/Desktop/自然语言处理数据/评论数据'\n",
    "Concat_excle(dir)"
   ]
  }
 ],
 "metadata": {
  "interpreter": {
   "hash": "56224f6eddb338085d2c3a853f6774c7c291ca6812a385fb91129c9ff160af75"
  },
  "kernelspec": {
   "display_name": "Python 3 (ipykernel)",
   "language": "python",
   "name": "python3"
  },
  "language_info": {
   "codemirror_mode": {
    "name": "ipython",
    "version": 3
   },
   "file_extension": ".py",
   "mimetype": "text/x-python",
   "name": "python",
   "nbconvert_exporter": "python",
   "pygments_lexer": "ipython3",
   "version": "3.8.12"
  }
 },
 "nbformat": 4,
 "nbformat_minor": 2
}
