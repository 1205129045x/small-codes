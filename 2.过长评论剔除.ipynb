{
 "cells": [
  {
   "cell_type": "code",
   "execution_count": 22,
   "metadata": {},
   "outputs": [],
   "source": [
    "import pandas as pd"
   ]
  },
  {
   "cell_type": "code",
   "execution_count": 27,
   "metadata": {},
   "outputs": [],
   "source": [
    "data1=pd.read_excel('/Users/nxcy/Desktop/自然语言处理数据/被处理的excel/可被crf分词的句子.xls')"
   ]
  },
  {
   "cell_type": "code",
   "execution_count": 28,
   "metadata": {},
   "outputs": [],
   "source": [
    "index=[]  #将评论长度大于50的评论剔除\n",
    "for i in range(len(data1)):\n",
    "    length=len(data1.iloc[i][1])\n",
    "    data1.iloc[i][0]= length\n",
    "    if length>50:\n",
    "        index.append(i)\n",
    "newdata=data1.iloc[index]\n",
    "data1.drop(index=index,inplace=True)"
   ]
  },
  {
   "cell_type": "code",
   "execution_count": 33,
   "metadata": {},
   "outputs": [],
   "source": [
    "newdata.to_excel('/Users/nxcy/Desktop/自然语言处理数据/被处理的excel/长度大于50的评论.xlsx',index=False,header=['句长','内容'])\n",
    "data1.to_excel('/Users/nxcy/Desktop/自然语言处理数据/被处理的excel/去除长度大于50的评论.xlsx',header=['句长','内容'],index=False)"
   ]
  }
 ],
 "metadata": {
  "interpreter": {
   "hash": "56224f6eddb338085d2c3a853f6774c7c291ca6812a385fb91129c9ff160af75"
  },
  "kernelspec": {
   "display_name": "Python 3.8.8 64-bit ('base': conda)",
   "language": "python",
   "name": "python3"
  },
  "language_info": {
   "codemirror_mode": {
    "name": "ipython",
    "version": 3
   },
   "file_extension": ".py",
   "mimetype": "text/x-python",
   "name": "python",
   "nbconvert_exporter": "python",
   "pygments_lexer": "ipython3",
   "version": "3.8.8"
  },
  "orig_nbformat": 4
 },
 "nbformat": 4,
 "nbformat_minor": 2
}
