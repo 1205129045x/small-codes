{
 "cells": [
  {
   "cell_type": "code",
   "execution_count": 3,
   "metadata": {},
   "outputs": [],
   "source": [
    "import sys\n",
    "sys.path.append('/Users/nxcy/Documents/HanLP/my-nlp- processing')\n",
    "from function import *\n",
    "import pandas as pd"
   ]
  },
  {
   "cell_type": "code",
   "execution_count": 5,
   "metadata": {},
   "outputs": [],
   "source": [
    "tests=excel_read(excel_path='/Users/nxcy/Desktop/自然语言处理数据/被处理的excel/所有迪士尼评论.xls',start_colx=1,end_colx=3).get_data()"
   ]
  },
  {
   "cell_type": "code",
   "execution_count": 7,
   "metadata": {},
   "outputs": [
    {
     "name": "stdout",
     "output_type": "stream",
     "text": [
      "评分为1的评论数量 => 107\n",
      "评分为2的评论数量 => 54\n",
      "评分为3的评论数量 => 312\n",
      "评分为4的评论数量 => 1451\n",
      "评分为5的评论数量 => 8715\n",
      "评分为0的评论数量 => 287\n",
      "10926\n"
     ]
    }
   ],
   "source": [
    "# 看下不同分数的评论有多少个\n",
    "a,b,c,d,e,f=0,0,0,0,0,0\n",
    "for i in tests:\n",
    "    if len(i[0])==5:\n",
    "        if i[0][0]=='1':\n",
    "            a=a+1\n",
    "        elif i[0][0]=='2':\n",
    "            b=b+1\n",
    "        elif i[0][0]=='3':\n",
    "            c=c+1\n",
    "        elif i[0][0]=='4':\n",
    "            d=d+1\n",
    "        elif i[0][0]=='5':\n",
    "            e=e+1\n",
    "    else:\n",
    "        f=f+1\n",
    "print(f\"评分为1的评论数量 => {a}\")\n",
    "print(f\"评分为2的评论数量 => {b}\")\n",
    "print(f\"评分为3的评论数量 => {c}\")\n",
    "print(f\"评分为4的评论数量 => {d}\")\n",
    "print(f\"评分为5的评论数量 => {e}\")\n",
    "print(f\"评分为0的评论数量 => {f}\")\n",
    "print(a+b+c+d+e+f)"
   ]
  },
  {
   "cell_type": "markdown",
   "metadata": {},
   "source": [
    "### newtests存储的是可以被CRF分词的句子，现在将它导出为可被crf分词的句子.xlsx\n",
    "### filter_emoji函数为自己定义在function.py里面的分类表情的函数"
   ]
  },
  {
   "cell_type": "code",
   "execution_count": 8,
   "metadata": {},
   "outputs": [
    {
     "name": "stderr",
     "output_type": "stream",
     "text": [
      "/var/folders/9b/8kts6r8n17s_2fp91h4s6yj00000gn/T/ipykernel_6804/4143364277.py:2: FutureWarning: As the xlwt package is no longer maintained, the xlwt engine will be removed in a future version of pandas. This is the only engine in pandas that supports writing in the xls format. Install openpyxl and write to an xlsx file instead. You can set the option io.excel.xls.writer to 'xlwt' to silence this warning. While this option is deprecated and will also raise a warning, it can be globally set and the warning suppressed.\n",
      "  pd.DataFrame(newtests, columns=['分数','评论']).to_excel(\"/Users/nxcy/Desktop/自然语言处理数据/被处理的excel/可被crf分词的句子.xls\", index=False)\n",
      "/var/folders/9b/8kts6r8n17s_2fp91h4s6yj00000gn/T/ipykernel_6804/4143364277.py:3: FutureWarning: As the xlwt package is no longer maintained, the xlwt engine will be removed in a future version of pandas. This is the only engine in pandas that supports writing in the xls format. Install openpyxl and write to an xlsx file instead. You can set the option io.excel.xls.writer to 'xlwt' to silence this warning. While this option is deprecated and will also raise a warning, it can be globally set and the warning suppressed.\n",
      "  pd.DataFrame(error_comment, columns=['分数','评论']).to_excel(\"/Users/nxcy/Desktop/自然语言处理数据/被处理的excel/包含表情，无法被正确分词的句子.xls\", index=False)\n"
     ]
    }
   ],
   "source": [
    "newtests,error_comment=filter_emoji(tests)\n",
    "pd.DataFrame(newtests, columns=['分数','评论']).to_excel(\"/Users/nxcy/Desktop/自然语言处理数据/被处理的excel/可被crf分词的句子.xls\", index=False)\n",
    "pd.DataFrame(error_comment, columns=['分数','评论']).to_excel(\"/Users/nxcy/Desktop/自然语言处理数据/被处理的excel/包含表情，无法被正确分词的句子.xls\", index=False)"
   ]
  },
  {
   "cell_type": "markdown",
   "metadata": {},
   "source": [
    "### 读取可以被正确分词的句子\n",
    "### newtests=[['5分 超棒', '迪士尼乐死孩童，累死爸妈，绝了！'],\n",
    " ### ['5分 超棒', '娃一直吵着去，还好在疫情前去过，很不错'],\n",
    " ### ...]\n"
   ]
  },
  {
   "cell_type": "code",
   "execution_count": 11,
   "metadata": {},
   "outputs": [],
   "source": [
    "newtests=excel_read(excel_path='/Users/nxcy/Desktop/自然语言处理数据/被处理的excel/可被crf分词的句子.xls',start_colx=0,end_colx=2).get_data()"
   ]
  },
  {
   "cell_type": "code",
   "execution_count": 12,
   "metadata": {},
   "outputs": [],
   "source": [
    "dict=counter_dict(newtests)"
   ]
  },
  {
   "cell_type": "code",
   "execution_count": 14,
   "metadata": {},
   "outputs": [],
   "source": [
    "dict2txt_json2('/Users/nxcy/Desktop/自然语言处理数据/分词结果txt和json/统计词频和词性还有分数',dict)"
   ]
  }
 ],
 "metadata": {
  "interpreter": {
   "hash": "56224f6eddb338085d2c3a853f6774c7c291ca6812a385fb91129c9ff160af75"
  },
  "kernelspec": {
   "display_name": "Python 3.8.8 64-bit ('base': conda)",
   "language": "python",
   "name": "python3"
  },
  "language_info": {
   "codemirror_mode": {
    "name": "ipython",
    "version": 3
   },
   "file_extension": ".py",
   "mimetype": "text/x-python",
   "name": "python",
   "nbconvert_exporter": "python",
   "pygments_lexer": "ipython3",
   "version": "3.8.8"
  },
  "orig_nbformat": 4
 },
 "nbformat": 4,
 "nbformat_minor": 2
}
